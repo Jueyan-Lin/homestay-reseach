{
 "cells": [
  {
   "cell_type": "markdown",
   "metadata": {},
   "source": [
    "\n",
    "Data resource: datasets containing listing and reviews in **Los Angeles** from (insidearibnb.com)[http://insideairbnb.com/get-the-data.html]. "
   ]
  },
  {
   "cell_type": "code",
   "execution_count": 1,
   "metadata": {},
   "outputs": [
    {
     "name": "stdout",
     "output_type": "stream",
     "text": [
      "Number of unique listings is 43763\n",
      "Number of unique listings is 26730\n"
     ]
    }
   ],
   "source": [
    "import pandas as pd\n",
    "\n",
    "#read the csv data\n",
    "df_listing = pd.read_csv(\"./listings.csv\")\n",
    "df_reviews = pd.read_csv(\"./reviews.csv\")\n",
    "\n",
    "#count the unique number of listing and host within the dataset \"df_listing\"\n",
    "unique_listing = df_listing[\"id\"].nunique()\n",
    "unique_host = df_listing[\"host_id\"].nunique()\n",
    "\n",
    "#print out the answers of the questiong\n",
    "print(\"Number of unique listings is %d\" %unique_listing)print(\"Number of unique hosts is %d\" %unique_host)"
   ]
  },
  {
   "cell_type": "markdown",
   "metadata": {},
   "source": [
    "\n",
    "\n",
    "* The mean of the listing number is 1.637224.\n",
    "* The median of the listing number is 1.\n",
    "* The standard deviation of the listing number is 2.497282.\n",
    "* The minimum of the listing number is 1.\n",
    "* The maximum of the listing number is 152.\n"
   ]
  },
  {
   "cell_type": "code",
   "execution_count": 2,
   "metadata": {},
   "outputs": [
    {
     "data": {
      "text/plain": [
       "count    26730.000000\n",
       "mean         1.637224\n",
       "std          2.497282\n",
       "min          1.000000\n",
       "25%          1.000000\n",
       "50%          1.000000\n",
       "75%          1.000000\n",
       "max        152.000000\n",
       "Name: count, dtype: float64"
      ]
     },
     "execution_count": 2,
     "metadata": {},
     "output_type": "execute_result"
    }
   ],
   "source": [
    "# group by 'host_id', then count how many listings each host has, finally to calculate each host's mean, standard deviation, minimum and maximum\n",
    "df_listing.groupby(by='host_id').\\\n",
    "apply(lambda x:pd.Series({'count':x['id'].nunique()})).\\\n",
    "sort_values(by='count',ascending=False)['count'].describe()"
   ]
  },
  {
   "cell_type": "markdown",
   "metadata": {},
   "source": [
    "\n",
    "* The average number listings for a super host is 2.158738024446647.\n",
    "* The average number listings for a non-super host is 5.893773757056974.\n",
    "* The std number listings for a super host is 2.1595178156467854.\n",
    "* The std number listings for a non-super host is 15.213995819214025.\n",
    "* The difference average number between super host and non-super host is -0.00077979120013838, which means super host would have more listings on average."
   ]
  },
  {
   "cell_type": "code",
   "execution_count": 3,
   "metadata": {},
   "outputs": [],
   "source": [
    "#extract columns('host_is_superhost','host_id','host_listings_count') to form a new data frame for hosts that are superhosts\n",
    "df_t=df_listing.loc[df_listing['host_is_superhost']=='t',:][['host_is_superhost','host_id','host_listings_count']]\n",
    "\n",
    "#create a data frame that each host corresponds its total number of listings(hosts are superhosts)\n",
    "dft=df_t.groupby(by='host_id').apply(lambda x:pd.Series({'listing_count':x['host_listings_count'].mean()}))\n",
    "\n",
    "#extract columns('host_is_superhost','host_id','host_listings_count') to form a new data frame for hosts that are NOT superhosts\n",
    "df_f=df_listing.loc[df_listing['host_is_superhost']=='f',:][['host_is_superhost','host_id','host_listings_count']]\n",
    "\n",
    "#create a data frame that each host corresponds its total number of listings(hosts are NOT superhosts)\n",
    "dff=df_f.groupby(by='host_id').apply(lambda x:pd.Series({'listing_count':x['host_listings_count'].mean()}))\n"
   ]
  },
  {
   "cell_type": "code",
   "execution_count": 4,
   "metadata": {},
   "outputs": [
    {
     "name": "stdout",
     "output_type": "stream",
     "text": [
      "2.158738024446647 5.893773757056974 2.1595178156467854 15.213995819214025\n",
      "-0.00077979120013838\n"
     ]
    }
   ],
   "source": [
    "# calculate mean, standard deviation of the number of listings for a superhost and a non-superhost\n",
    "is_superhost_mean = dft['listing_count'].mean()\n",
    "is_superhost_std =dft['listing_count'].std()\n",
    "\n",
    "not_superhost_mean = dff['listing_count'].mean()\n",
    "not_superhost_std = dff['listing_count'].std()\n",
    "\n",
    "print(is_superhost_mean,is_superhost_std,not_superhost_mean,not_superhost_std)\n",
    "\n",
    "# calculate the difference between the mean of a superhost and non-superhost, which could provide us a idea of which host has more listings on average\n",
    "diff_mean = is_superhost_mean - not_superhost_mean\n",
    "print(diff_mean)"
   ]
  },
  {
   "cell_type": "markdown",
   "metadata": {},
   "source": [
    "\n",
    "* There are 22 unique types of host verifications. \n",
    "* The vertification types are: 'email', 'phone', 'reviews', 'jumio', 'government_id', 'facebook', 'kba', 'work_email', 'offline_government_id', 'manual_online', 'selfie', 'identity_manual', 'google', 'manual_offline', '', 'sent_id', 'photographer', 'zhima_selfie', 'None', 'weibo', 'sesame', 'sesame_offline'"
   ]
  },
  {
   "cell_type": "code",
   "execution_count": 5,
   "metadata": {},
   "outputs": [],
   "source": [
    "df_group=df_listing.groupby(by='host_id').\\\n",
    "            apply(lambda x:pd.Series({'verification':x['host_verifications'].unique()}))\n"
   ]
  },
  {
   "cell_type": "code",
   "execution_count": 6,
   "metadata": {},
   "outputs": [
    {
     "name": "stdout",
     "output_type": "stream",
     "text": [
      "{'email': 25003, 'phone': 26563, 'reviews': 19841, 'jumio': 12075, 'government_id': 12429, 'facebook': 6341, 'kba': 7036, 'work_email': 3571, 'offline_government_id': 6947, 'manual_online': 147, 'selfie': 3736, 'identity_manual': 3553, 'google': 1706, 'manual_offline': 275, '': 13, 'sent_id': 30, 'photographer': 4, 'zhima_selfie': 46, 'None': 20, 'weibo': 41, 'sesame': 14, 'sesame_offline': 14}\n"
     ]
    },
    {
     "data": {
      "text/plain": [
       "22"
      ]
     },
     "execution_count": 6,
     "metadata": {},
     "output_type": "execute_result"
    }
   ],
   "source": [
    "# You need to provide the code to answer the previous quesiton\n",
    "b={} # create a dictionary to help counting the times for each verification types\n",
    "for index,row in df_group.iterrows():\n",
    "    host_verifications = str(row['verification'])\n",
    "    d = host_verifications.replace('[','').replace(']','').replace(\"'\",\"\").replace(' ','').replace('\"','') \n",
    "    l=d.split(',')\n",
    "  \n",
    "    for i in l:\n",
    "        if i not in b.keys():\n",
    "            b[i] = 1\n",
    "        else:\n",
    "            b[i] = b[i] +1\n",
    "print(b)\n",
    "len(b)"
   ]
  },
  {
   "cell_type": "markdown",
   "metadata": {},
   "source": [
    "\n",
    "* The five most popylar verificaition types of hosts are email, phone, email, reviews, government_id, jumio.\n",
    "* For each of the top five verifications, the percentage of phone is 99.37523381967827, the percentage of email is 93.53909465020575, the percentage of reviews is 74.22745978301533, the percentage of government_id is 46.4983164983165, and the percentage of jumio is 45.17396184062851."
   ]
  },
  {
   "cell_type": "code",
   "execution_count": 7,
   "metadata": {},
   "outputs": [
    {
     "name": "stdout",
     "output_type": "stream",
     "text": [
      "[('phone', 26563), ('email', 25003), ('reviews', 19841), ('government_id', 12429), ('jumio', 12075)]\n"
     ]
    },
    {
     "data": {
      "text/plain": [
       "[99.37523381967827,\n",
       " 93.53909465020575,\n",
       " 74.22745978301533,\n",
       " 46.4983164983165,\n",
       " 45.17396184062851]"
      ]
     },
     "execution_count": 7,
     "metadata": {},
     "output_type": "execute_result"
    }
   ],
   "source": [
    "# You need to provide the code to answer the previous quesiton\n",
    "b_sorted = sorted(b.items(),key=lambda item:item[1],reverse=True)\n",
    "\n",
    "b_top_five = b_sorted[:5]\n",
    "\n",
    "print(b_top_five)\n",
    "top_five_dict = {}\n",
    "for x in b_top_five:\n",
    "    top_five_dict[x[0]] = x[1]\n",
    "\n",
    "top_five_dict.keys() #The five most popylar verificaition types of hosts\n",
    "\n",
    "\n",
    "percent_top_five = [] #The percentage of the top five popular verification type\n",
    "for j in top_five_dict.values():\n",
    "    percent_top_five.append((j/unique_host)*100)\n",
    "\n",
    "percent_top_five"
   ]
  },
  {
   "cell_type": "markdown",
   "metadata": {},
   "source": [
    "\n",
    "* The average price of a listing in LA from Jan 1st,2019 to Mar 1st,2019 is 213.2409167657559.\n",
    "* The std of a listing in LA from Jan 1st,2019 to Mar 1st,2019 is 577.3961352033027."
   ]
  },
  {
   "cell_type": "code",
   "execution_count": 8,
   "metadata": {
    "scrolled": true
   },
   "outputs": [
    {
     "data": {
      "text/html": [
       "<div>\n",
       "<style scoped>\n",
       "    .dataframe tbody tr th:only-of-type {\n",
       "        vertical-align: middle;\n",
       "    }\n",
       "\n",
       "    .dataframe tbody tr th {\n",
       "        vertical-align: top;\n",
       "    }\n",
       "\n",
       "    .dataframe thead th {\n",
       "        text-align: right;\n",
       "    }\n",
       "</style>\n",
       "<table border=\"1\" class=\"dataframe\">\n",
       "  <thead>\n",
       "    <tr style=\"text-align: right;\">\n",
       "      <th></th>\n",
       "      <th>listing_id</th>\n",
       "      <th>date</th>\n",
       "      <th>available</th>\n",
       "      <th>price</th>\n",
       "    </tr>\n",
       "  </thead>\n",
       "  <tbody>\n",
       "    <tr>\n",
       "      <th>0</th>\n",
       "      <td>109</td>\n",
       "      <td>2019-08-08</td>\n",
       "      <td>t</td>\n",
       "      <td>127.0</td>\n",
       "    </tr>\n",
       "    <tr>\n",
       "      <th>1</th>\n",
       "      <td>72186</td>\n",
       "      <td>2019-10-04</td>\n",
       "      <td>t</td>\n",
       "      <td>52.0</td>\n",
       "    </tr>\n",
       "    <tr>\n",
       "      <th>2</th>\n",
       "      <td>72186</td>\n",
       "      <td>2019-10-03</td>\n",
       "      <td>t</td>\n",
       "      <td>52.0</td>\n",
       "    </tr>\n",
       "    <tr>\n",
       "      <th>3</th>\n",
       "      <td>72186</td>\n",
       "      <td>2019-10-02</td>\n",
       "      <td>t</td>\n",
       "      <td>52.0</td>\n",
       "    </tr>\n",
       "    <tr>\n",
       "      <th>4</th>\n",
       "      <td>72186</td>\n",
       "      <td>2019-10-01</td>\n",
       "      <td>t</td>\n",
       "      <td>52.0</td>\n",
       "    </tr>\n",
       "  </tbody>\n",
       "</table>\n",
       "</div>"
      ],
      "text/plain": [
       "   listing_id       date available  price\n",
       "0         109 2019-08-08         t  127.0\n",
       "1       72186 2019-10-04         t   52.0\n",
       "2       72186 2019-10-03         t   52.0\n",
       "3       72186 2019-10-02         t   52.0\n",
       "4       72186 2019-10-01         t   52.0"
      ]
     },
     "execution_count": 8,
     "metadata": {},
     "output_type": "execute_result"
    }
   ],
   "source": [
    "df_calendar = pd.read_csv(\"./calendar.csv\") \n",
    "df_calendar[\"date\"] = pd.to_datetime(df_calendar[\"date\"])\n",
    "\n",
    "# convert entries of price column into floats\n",
    "df_calendar['price']=df_calendar.price.astype('str').\\\n",
    "                    apply(lambda x:float(x.strip('$').replace(\",\",\"\")))"
   ]
  },
  {
   "cell_type": "code",
   "execution_count": 38,
   "metadata": {},
   "outputs": [
    {
     "name": "stdout",
     "output_type": "stream",
     "text": [
      "213.2409167657559 577.3961352033027\n"
     ]
    }
   ],
   "source": [
    "# select the period of time needed\n",
    "period = (df_calendar['date'] >= \"2019-01-01\") & (df_calendar['date'] <= \"2019-03-01\") & (df_calendar['available'] == \"t\")\n",
    "df_6 = df_calendar.loc[period]\n",
    "df_6 = df_6.dropna(axis=0,how='any',subset=[\"price\"])\n",
    "# calculate the average price of a listing in LA during the period of time\n",
    "df6 = df_6.groupby(by=[\"listing_id\"]).apply(lambda x:pd.Series({\"listing_avg\":x[\"price\"].mean()}))\n",
    "# calcualte the median and standard deviation of the df6\n",
    "avg_period = df6[\"listing_avg\"].mean()\n",
    "std_period = df6[\"listing_avg\"].std()\n",
    "print(avg_period,std_period)"
   ]
  },
  {
   "cell_type": "markdown",
   "metadata": {},
   "source": [
    "\n",
    "* The most popular ten words in Jan, 2016:('great', 6748),('stay', 5738),('place', 5379),('location', 3400),('clean', 3323),('house', 3291),('us', 3219),('would', 3067),('host', 2972),('nice', 2942)\n",
    "* The most popular ten words in Mar, 2017:('great', 15695),('place', 14688),('stay', 11920),('location', 7584),('clean', 6956)('would', 5935),('nice', 5851),('host', 5794),('house', 4852),('comfortable', 4761)\n",
    "* The most popular ten words in Apr, 2018:('great', 25292),('place', 24889),('stay', 19524),('location', 13657),('clean', 12075),('would', 9979),('host', 9365),('nice', 9146),('house', 7120),('everything', 6987)"
   ]
  },
  {
   "cell_type": "code",
   "execution_count": 10,
   "metadata": {},
   "outputs": [
    {
     "name": "stdout",
     "output_type": "stream",
     "text": [
      "[nltk_data] Downloading package stopwords to\n",
      "[nltk_data]     /Users/peiyilinshen/nltk_data...\n",
      "[nltk_data]   Package stopwords is already up-to-date!\n",
      "[nltk_data] Downloading package punkt to\n",
      "[nltk_data]     /Users/peiyilinshen/nltk_data...\n",
      "[nltk_data]   Package punkt is already up-to-date!\n"
     ]
    },
    {
     "data": {
      "text/plain": [
       "True"
      ]
     },
     "execution_count": 10,
     "metadata": {},
     "output_type": "execute_result"
    }
   ],
   "source": [
    "import nltk\n",
    "from nltk.corpus import stopwords\n",
    "from nltk.tokenize import word_tokenize\n",
    "stop_words = set(stopwords.words('english'))\n",
    "nltk.download('stopwords')\n",
    "nltk.download('punkt')"
   ]
  },
  {
   "cell_type": "code",
   "execution_count": 11,
   "metadata": {},
   "outputs": [],
   "source": [
    "\n",
    "def count_words(period1):\n",
    "    \"\"\"create a function to count the number of the words besides the stopping words,punctuation and numbers.\"\"\"\n",
    "    df_reviews_7 = df_reviews.loc[period1]\n",
    "    words={} # create a dictionary to help counting the times for each verification types\n",
    "    for index,row in df_reviews_7.iterrows():\n",
    "        comments = row['comments']\n",
    "        \n",
    "        comments = str(comments)\n",
    "        word_tokens = word_tokenize(comments)\n",
    "        d = [word.lower() for word in word_tokens if word.isalpha()]\n",
    "        word_temp = [w for w in d if not w in stop_words]\n",
    "        \n",
    "        for i in word_temp:    \n",
    "            if i not in words.keys():\n",
    "                words[i] = 1\n",
    "            else:\n",
    "                words[i] = words[i] +1\n",
    "    \n",
    "    return words"
   ]
  },
  {
   "cell_type": "code",
   "execution_count": 12,
   "metadata": {},
   "outputs": [
    {
     "data": {
      "text/plain": [
       "[('great', 6748),\n",
       " ('stay', 5738),\n",
       " ('place', 5379),\n",
       " ('location', 3400),\n",
       " ('clean', 3323),\n",
       " ('house', 3291),\n",
       " ('us', 3219),\n",
       " ('would', 3067),\n",
       " ('host', 2972),\n",
       " ('nice', 2942)]"
      ]
     },
     "execution_count": 12,
     "metadata": {},
     "output_type": "execute_result"
    }
   ],
   "source": [
    "# Count the top-ten-popular-word's numbers during the period 2016-01-01 to 2016-01-31\n",
    "period1 = (df_reviews['date'] >= \"2016-01-01\") & (df_reviews['date'] <= \"2016-01-31\")\n",
    "words = count_words(period1)\n",
    "# words\n",
    "words_sorted = sorted(words.items(),key=lambda item:item[1],reverse=True)\n",
    "words_top_ten = words_sorted[0:10]\n",
    "words_top_ten"
   ]
  },
  {
   "cell_type": "code",
   "execution_count": 13,
   "metadata": {},
   "outputs": [
    {
     "data": {
      "text/plain": [
       "[('great', 15695),\n",
       " ('place', 14688),\n",
       " ('stay', 11920),\n",
       " ('location', 7584),\n",
       " ('clean', 6956),\n",
       " ('would', 5935),\n",
       " ('nice', 5851),\n",
       " ('host', 5794),\n",
       " ('house', 4852),\n",
       " ('comfortable', 4761)]"
      ]
     },
     "execution_count": 13,
     "metadata": {},
     "output_type": "execute_result"
    }
   ],
   "source": [
    "# Count the top-ten-popular-word's numbers during the period 2017-03-01 to 2017-03-31\n",
    "period2 = (df_reviews['date'] >= \"2017-03-01\") & (df_reviews['date'] <= \"2017-03-31\")\n",
    "words = count_words(period2)\n",
    "# words\n",
    "words_sorted = sorted(words.items(),key=lambda item:item[1],reverse=True)\n",
    "words_top_ten = words_sorted[0:10]\n",
    "words_top_ten"
   ]
  },
  {
   "cell_type": "code",
   "execution_count": 14,
   "metadata": {},
   "outputs": [
    {
     "data": {
      "text/plain": [
       "[('great', 25292),\n",
       " ('place', 24889),\n",
       " ('stay', 19524),\n",
       " ('location', 13657),\n",
       " ('clean', 12075),\n",
       " ('would', 9979),\n",
       " ('host', 9365),\n",
       " ('nice', 9146),\n",
       " ('house', 7120),\n",
       " ('everything', 6987)]"
      ]
     },
     "execution_count": 14,
     "metadata": {},
     "output_type": "execute_result"
    }
   ],
   "source": [
    "# Count the top-ten-popular-word's numbers during the period 2018-04-01 to 2018-04-30\n",
    "period3 = (df_reviews['date'] >= \"2018-04-01\") & (df_reviews['date'] <= \"2018-04-30\")\n",
    "words = count_words(period3)\n",
    "# words\n",
    "words_sorted = sorted(words.items(),key=lambda item:item[1],reverse=True)\n",
    "words_top_ten = words_sorted[0:10]\n",
    "words_top_ten"
   ]
  },
  {
   "cell_type": "markdown",
   "metadata": {},
   "source": [
    "\n",
    "* The five zipcodes which have the highest average listing price between between 2019-01-01 to 2019-02-01 are 90210,90265,90069,90077,91436. And the listing prices respectively are 1440.587339,1119.410276,776.265778,740.833933,541.754558.\n",
    "* The number of active listings and hosts of the top five zipcodes(90210,90265,90069,90077,91436): The active listings numbers are 297,473,529,66,64 and the active hosts numbers are 209,320,380,56,51.\n"
   ]
  },
  {
   "cell_type": "code",
   "execution_count": 15,
   "metadata": {},
   "outputs": [
    {
     "data": {
      "text/html": [
       "<div>\n",
       "<style scoped>\n",
       "    .dataframe tbody tr th:only-of-type {\n",
       "        vertical-align: middle;\n",
       "    }\n",
       "\n",
       "    .dataframe tbody tr th {\n",
       "        vertical-align: top;\n",
       "    }\n",
       "\n",
       "    .dataframe thead th {\n",
       "        text-align: right;\n",
       "    }\n",
       "</style>\n",
       "<table border=\"1\" class=\"dataframe\">\n",
       "  <thead>\n",
       "    <tr style=\"text-align: right;\">\n",
       "      <th></th>\n",
       "      <th>ave_price</th>\n",
       "    </tr>\n",
       "    <tr>\n",
       "      <th>zipcode</th>\n",
       "      <th></th>\n",
       "    </tr>\n",
       "  </thead>\n",
       "  <tbody>\n",
       "    <tr>\n",
       "      <th>90210</th>\n",
       "      <td>1440.587339</td>\n",
       "    </tr>\n",
       "    <tr>\n",
       "      <th>90265</th>\n",
       "      <td>1119.410276</td>\n",
       "    </tr>\n",
       "    <tr>\n",
       "      <th>90069</th>\n",
       "      <td>776.265778</td>\n",
       "    </tr>\n",
       "    <tr>\n",
       "      <th>90077</th>\n",
       "      <td>740.833933</td>\n",
       "    </tr>\n",
       "    <tr>\n",
       "      <th>91436</th>\n",
       "      <td>541.754558</td>\n",
       "    </tr>\n",
       "  </tbody>\n",
       "</table>\n",
       "</div>"
      ],
      "text/plain": [
       "           ave_price\n",
       "zipcode             \n",
       "90210    1440.587339\n",
       "90265    1119.410276\n",
       "90069     776.265778\n",
       "90077     740.833933\n",
       "91436     541.754558"
      ]
     },
     "execution_count": 15,
     "metadata": {},
     "output_type": "execute_result"
    }
   ],
   "source": [
    "import numpy as np\n",
    "\n",
    "# merge certain columns of df_listing with df_calendar by left join\n",
    "df=df_listing[['id','zipcode','host_id']].\\\n",
    "    merge(df_calendar,how='left',left_on='id',right_on='listing_id')\n",
    "\n",
    "# create data frame from 2019-01-01 to 2019-02-01 and filter data with zipcode that has less than 30 listings\n",
    "df_period=df.loc[(df['date']>='2019-01-01')&(df['date']<='2019-02-01'),:].\\\n",
    "          groupby(by='zipcode').filter(lambda x:x['id'].nunique()>=30)\n",
    "\n",
    "# create data frame that each zipcode has corresponding average listing price, then sort the data frame by average listing price descendingly\n",
    "df_top=df_period.groupby(by='zipcode').\\\n",
    "        apply(lambda x:pd.Series({'ave_price':x['price'].agg(np.mean)})).\\\n",
    "sort_values(by='ave_price',ascending=False)\n",
    "\n",
    "#get the top five zipcode with the largest average price\n",
    "df_top.head()"
   ]
  },
  {
   "cell_type": "code",
   "execution_count": 16,
   "metadata": {},
   "outputs": [],
   "source": [
    "# create a data frame that each listing has corresponding answer(0=not active,1=active) \n",
    "df_calendar_new=df_period.groupby(by='listing_id').\\\n",
    "        apply(lambda x:pd.Series({'is_active':1 if sum(x['available']=='t')>=1 else 0}))\n",
    "\n",
    "# merge certain columns of df_listing with df_calendar_new\n",
    "df2=df_listing[['id','zipcode','host_id']].\\\n",
    "    merge(df_calendar_new,how='left',left_on='id',right_on='listing_id')\n",
    "\n",
    "# calculate the number of host_id\n",
    "d=df2.loc[df2['is_active']==1,:]\n",
    "df_host=d.groupby(by='zipcode').apply(lambda x:pd.Series({'host':x['host_id'].nunique()}))\n",
    "\n",
    "# calculate the number of active listings\n",
    "df_active=df2.groupby(by='zipcode').\\\n",
    "            apply(lambda x:pd.Series({'num_active':sum(x['is_active'])}))"
   ]
  },
  {
   "cell_type": "code",
   "execution_count": 17,
   "metadata": {},
   "outputs": [
    {
     "data": {
      "text/html": [
       "<div>\n",
       "<style scoped>\n",
       "    .dataframe tbody tr th:only-of-type {\n",
       "        vertical-align: middle;\n",
       "    }\n",
       "\n",
       "    .dataframe tbody tr th {\n",
       "        vertical-align: top;\n",
       "    }\n",
       "\n",
       "    .dataframe thead th {\n",
       "        text-align: right;\n",
       "    }\n",
       "</style>\n",
       "<table border=\"1\" class=\"dataframe\">\n",
       "  <thead>\n",
       "    <tr style=\"text-align: right;\">\n",
       "      <th></th>\n",
       "      <th>ave_price</th>\n",
       "      <th>num_active</th>\n",
       "      <th>host</th>\n",
       "    </tr>\n",
       "    <tr>\n",
       "      <th>zipcode</th>\n",
       "      <th></th>\n",
       "      <th></th>\n",
       "      <th></th>\n",
       "    </tr>\n",
       "  </thead>\n",
       "  <tbody>\n",
       "    <tr>\n",
       "      <th>90210</th>\n",
       "      <td>1440.587339</td>\n",
       "      <td>297.0</td>\n",
       "      <td>209</td>\n",
       "    </tr>\n",
       "    <tr>\n",
       "      <th>90265</th>\n",
       "      <td>1119.410276</td>\n",
       "      <td>473.0</td>\n",
       "      <td>320</td>\n",
       "    </tr>\n",
       "    <tr>\n",
       "      <th>90069</th>\n",
       "      <td>776.265778</td>\n",
       "      <td>529.0</td>\n",
       "      <td>380</td>\n",
       "    </tr>\n",
       "    <tr>\n",
       "      <th>90077</th>\n",
       "      <td>740.833933</td>\n",
       "      <td>66.0</td>\n",
       "      <td>56</td>\n",
       "    </tr>\n",
       "    <tr>\n",
       "      <th>91436</th>\n",
       "      <td>541.754558</td>\n",
       "      <td>64.0</td>\n",
       "      <td>51</td>\n",
       "    </tr>\n",
       "  </tbody>\n",
       "</table>\n",
       "</div>"
      ],
      "text/plain": [
       "           ave_price  num_active  host\n",
       "zipcode                               \n",
       "90210    1440.587339       297.0   209\n",
       "90265    1119.410276       473.0   320\n",
       "90069     776.265778       529.0   380\n",
       "90077     740.833933        66.0    56\n",
       "91436     541.754558        64.0    51"
      ]
     },
     "execution_count": 17,
     "metadata": {},
     "output_type": "execute_result"
    }
   ],
   "source": [
    "# put all related data into one data frame to get the top five zipcode's number of active listings, hosts, and average price\n",
    "df_final=df_top.merge(df_active,how='inner',on='zipcode').merge(df_host,how='inner',on='zipcode')\n",
    "df_final.head()"
   ]
  },
  {
   "cell_type": "markdown",
   "metadata": {},
   "source": [
    "\n",
    "\n",
    "* zipcodes: 90210,90069,91302,91325,90211\n",
    "* the absolute difference: 17.966450,15.566193,15.282956,12.948061,8.634384\n",
    "\n"
   ]
  },
  {
   "cell_type": "code",
   "execution_count": 24,
   "metadata": {
    "scrolled": true
   },
   "outputs": [
    {
     "name": "stderr",
     "output_type": "stream",
     "text": [
      "/Users/peiyilinshen/anaconda3/lib/python3.6/site-packages/ipykernel_launcher.py:9: FutureWarning: `weekday_name` is deprecated and will be removed in a future version. Use `day_name` instead\n",
      "  if __name__ == '__main__':\n"
     ]
    },
    {
     "data": {
      "text/html": [
       "<div>\n",
       "<style scoped>\n",
       "    .dataframe tbody tr th:only-of-type {\n",
       "        vertical-align: middle;\n",
       "    }\n",
       "\n",
       "    .dataframe tbody tr th {\n",
       "        vertical-align: top;\n",
       "    }\n",
       "\n",
       "    .dataframe thead th {\n",
       "        text-align: right;\n",
       "    }\n",
       "</style>\n",
       "<table border=\"1\" class=\"dataframe\">\n",
       "  <thead>\n",
       "    <tr style=\"text-align: right;\">\n",
       "      <th></th>\n",
       "      <th>zipcode</th>\n",
       "      <th>weekend_ave_price</th>\n",
       "      <th>weekday_ave_price</th>\n",
       "      <th>diff</th>\n",
       "    </tr>\n",
       "  </thead>\n",
       "  <tbody>\n",
       "    <tr>\n",
       "      <th>54</th>\n",
       "      <td>90210</td>\n",
       "      <td>1480.384062</td>\n",
       "      <td>1462.417611</td>\n",
       "      <td>17.966450</td>\n",
       "    </tr>\n",
       "    <tr>\n",
       "      <th>51</th>\n",
       "      <td>90069</td>\n",
       "      <td>783.689410</td>\n",
       "      <td>768.123217</td>\n",
       "      <td>15.566193</td>\n",
       "    </tr>\n",
       "    <tr>\n",
       "      <th>131</th>\n",
       "      <td>91302</td>\n",
       "      <td>344.258667</td>\n",
       "      <td>359.541622</td>\n",
       "      <td>15.282956</td>\n",
       "    </tr>\n",
       "    <tr>\n",
       "      <th>139</th>\n",
       "      <td>91325</td>\n",
       "      <td>223.138075</td>\n",
       "      <td>210.190014</td>\n",
       "      <td>12.948061</td>\n",
       "    </tr>\n",
       "    <tr>\n",
       "      <th>55</th>\n",
       "      <td>90211</td>\n",
       "      <td>251.970732</td>\n",
       "      <td>243.336347</td>\n",
       "      <td>8.634384</td>\n",
       "    </tr>\n",
       "  </tbody>\n",
       "</table>\n",
       "</div>"
      ],
      "text/plain": [
       "    zipcode  weekend_ave_price  weekday_ave_price       diff\n",
       "54    90210        1480.384062        1462.417611  17.966450\n",
       "51    90069         783.689410         768.123217  15.566193\n",
       "131   91302         344.258667         359.541622  15.282956\n",
       "139   91325         223.138075         210.190014  12.948061\n",
       "55    90211         251.970732         243.336347   8.634384"
      ]
     },
     "execution_count": 24,
     "metadata": {},
     "output_type": "execute_result"
    }
   ],
   "source": [
    "# You need to provide the code to answer the previous quesiton\n",
    "# create a list of weekdays\n",
    "Weekday=['Monday','Tuesday','Wednesday','Thursday','Friday']\n",
    "\n",
    "# create data frame from 2019-01-01 to 2019-04-01 and filter out data that the zipcode has less than 30 listings\n",
    "df_period=df.loc[(df['date']>='2019-01-01')&(df['date']<='2019-04-01'),:].\\\n",
    "          groupby(by='zipcode').filter(lambda x:x['id'].nunique()>=30)\n",
    "\n",
    "# create a new column that corresponds that if the date is a weekday or not\n",
    "df_period['weekdays']=df_period.date.apply(lambda x:1 if x.weekday_name in Weekday else 0)\n",
    "\n",
    "# split df_period into non-weekday data frame and weekday data frame by weekday column\n",
    "d1=df_period.loc[df_period['weekdays']==1]\n",
    "d0=df_period.loc[df_period['weekdays']==0]\n",
    "\n",
    "# create data frame that each zipcode has corresponding average price based on the weekday data frame\n",
    "df_weekday=d0.groupby(by=['zipcode']).\\\n",
    "           apply(lambda x:pd.Series({'weekend_ave_price':x['price'].mean()}))\n",
    "\n",
    "# create data frame that each zipcode has corresponding average price based on the weekend data frame\n",
    "df_weekend=d1.groupby(by='zipcode').apply(lambda x:pd.Series({'weekday_ave_price':x['price'].mean()}))\n",
    "\n",
    "# merge df_weekday with df_weekend by inner join on zipcode\n",
    "d=df_weekday.merge(df_weekend,how='inner',on='zipcode').reset_index()\n",
    "\n",
    "# create a difference column on merged data frame through calculating the difference between the average prices of weekday and weekend\n",
    "d['diff']=d.apply(lambda x:abs(x['weekday_ave_price']-x['weekend_ave_price']),axis=1)\n",
    "\n",
    "# descendingly sort the merged data frame by the difference column to get the top five zipcode with the largest difference of average price between weekday and weekend\n",
    "d.sort_values(by='diff',ascending=False).head()\n",
    "\n"
   ]
  },
  {
   "cell_type": "markdown",
   "metadata": {},
   "source": [
    "\n",
    "* The average and standard deviation of the daily total capcity:51105.83516483517, 1387.1753415062674\n",
    "* The average and standard deviation of the daily price per bed:105.84720649752913, 2.315225438697783"
   ]
  },
  {
   "cell_type": "code",
   "execution_count": 25,
   "metadata": {},
   "outputs": [],
   "source": [
    "# provide the data set with the available capacity from 2019-01-01 to 2019-04-01.\n",
    "df_listing_bed = df_listing.loc[:,[\"id\",\"beds\"]]\n",
    "df_10 = df_calendar.merge(df_listing_bed,how=\"left\",left_on=\"listing_id\",right_on=\"id\")\n",
    "df_10[\"date\"] = pd.to_datetime(df_10[\"date\"])\n",
    "period_10 = (df_10['date'] >= \"2019-01-01\") & (df_10['date'] <= \"2019-04-01\")\n",
    "df_10_period = df_10.loc[period_10]\n",
    "df_10_period_a = df_10_period[df_10_period[\"available\"].isin([\"t\"])]\n",
    "df_10_period_a = df_10_period_a.fillna(0)"
   ]
  },
  {
   "cell_type": "code",
   "execution_count": 26,
   "metadata": {},
   "outputs": [
    {
     "name": "stdout",
     "output_type": "stream",
     "text": [
      "51105.83516483517 1387.1753415062674\n"
     ]
    }
   ],
   "source": [
    "# the average and standard deviation of the total daily capacity.\n",
    "df_group_by_day = df_10_period_a.groupby(by=[\"date\"]).apply(lambda x:pd.Series({\"sum\":x[\"beds\"].sum(),\\\n",
    "                                                                               \"mean\":x[\"beds\"].mean(),\\\n",
    "                                                                               \"std\":x[\"beds\"].std()}))\n",
    "print(df_group_by_day[\"sum\"].mean(),df_group_by_day[\"sum\"].std())"
   ]
  },
  {
   "cell_type": "code",
   "execution_count": 27,
   "metadata": {},
   "outputs": [
    {
     "name": "stderr",
     "output_type": "stream",
     "text": [
      "/Users/peiyilinshen/anaconda3/lib/python3.6/site-packages/ipykernel_launcher.py:3: SettingWithCopyWarning: \n",
      "A value is trying to be set on a copy of a slice from a DataFrame.\n",
      "Try using .loc[row_indexer,col_indexer] = value instead\n",
      "\n",
      "See the caveats in the documentation: http://pandas.pydata.org/pandas-docs/stable/indexing.html#indexing-view-versus-copy\n",
      "  This is separate from the ipykernel package so we can avoid doing imports until\n"
     ]
    },
    {
     "name": "stdout",
     "output_type": "stream",
     "text": [
      "105.84720649752913 2.315225438697783\n"
     ]
    }
   ],
   "source": [
    "# the average and standard deviation of the daily price per bed.\n",
    "k = df_10_period_a.loc[df_10_period_a[\"beds\"] >= 1,:]\n",
    "k[\"price_per_bed\"] = k[\"price\"]/k[\"beds\"]\n",
    "\n",
    "df_price_per_day = k.groupby(by=[\"date\"]).apply(lambda x:pd.Series({\"sum\":x[\"price_per_bed\"].sum(),\\\n",
    "                                                                   \"mean\":x[\"price_per_bed\"].mean(),\\\n",
    "                                                                   \"std\":x[\"price_per_bed\"].std()}))\n",
    "\n",
    "print(df_price_per_day[\"mean\"].mean(),df_price_per_day[\"mean\"].std())"
   ]
  },
  {
   "cell_type": "markdown",
   "metadata": {},
   "source": [
    "### Which property types of Airbnb are the top ten popular in LA? What are the average price of these property types in LA?\n",
    "**Question 1 Answer:**\n",
    "\n",
    "* Ten popular property types(from the most to the least): Apartment,House,Condo,Guesthouse,Townhouse,Guest Suite,Bungalow,Loft,Villa,Hostel\n",
    "* Average price(Start with the most popular property type):166.523779,287.506441,216.018439,124.773348,164.889883,113.514504,166.418576,198.811258,1168.252623,61.93357"
   ]
  },
  {
   "cell_type": "code",
   "execution_count": 28,
   "metadata": {
    "scrolled": true
   },
   "outputs": [
    {
     "data": {
      "text/html": [
       "<div>\n",
       "<style scoped>\n",
       "    .dataframe tbody tr th:only-of-type {\n",
       "        vertical-align: middle;\n",
       "    }\n",
       "\n",
       "    .dataframe tbody tr th {\n",
       "        vertical-align: top;\n",
       "    }\n",
       "\n",
       "    .dataframe thead th {\n",
       "        text-align: right;\n",
       "    }\n",
       "</style>\n",
       "<table border=\"1\" class=\"dataframe\">\n",
       "  <thead>\n",
       "    <tr style=\"text-align: right;\">\n",
       "      <th></th>\n",
       "      <th>count</th>\n",
       "      <th>ave_price</th>\n",
       "    </tr>\n",
       "    <tr>\n",
       "      <th>property_type</th>\n",
       "      <th></th>\n",
       "      <th></th>\n",
       "    </tr>\n",
       "  </thead>\n",
       "  <tbody>\n",
       "    <tr>\n",
       "      <th>Apartment</th>\n",
       "      <td>16780</td>\n",
       "      <td>166.523779</td>\n",
       "    </tr>\n",
       "    <tr>\n",
       "      <th>House</th>\n",
       "      <td>14769</td>\n",
       "      <td>287.506441</td>\n",
       "    </tr>\n",
       "    <tr>\n",
       "      <th>Condominium</th>\n",
       "      <td>2286</td>\n",
       "      <td>216.018439</td>\n",
       "    </tr>\n",
       "    <tr>\n",
       "      <th>Guesthouse</th>\n",
       "      <td>2103</td>\n",
       "      <td>124.773348</td>\n",
       "    </tr>\n",
       "    <tr>\n",
       "      <th>Townhouse</th>\n",
       "      <td>1417</td>\n",
       "      <td>164.889883</td>\n",
       "    </tr>\n",
       "    <tr>\n",
       "      <th>Guest suite</th>\n",
       "      <td>1293</td>\n",
       "      <td>113.514504</td>\n",
       "    </tr>\n",
       "    <tr>\n",
       "      <th>Bungalow</th>\n",
       "      <td>1230</td>\n",
       "      <td>166.418576</td>\n",
       "    </tr>\n",
       "    <tr>\n",
       "      <th>Loft</th>\n",
       "      <td>982</td>\n",
       "      <td>198.811258</td>\n",
       "    </tr>\n",
       "    <tr>\n",
       "      <th>Villa</th>\n",
       "      <td>782</td>\n",
       "      <td>1168.252623</td>\n",
       "    </tr>\n",
       "    <tr>\n",
       "      <th>Hostel</th>\n",
       "      <td>395</td>\n",
       "      <td>61.933570</td>\n",
       "    </tr>\n",
       "  </tbody>\n",
       "</table>\n",
       "</div>"
      ],
      "text/plain": [
       "               count    ave_price\n",
       "property_type                    \n",
       "Apartment      16780   166.523779\n",
       "House          14769   287.506441\n",
       "Condominium     2286   216.018439\n",
       "Guesthouse      2103   124.773348\n",
       "Townhouse       1417   164.889883\n",
       "Guest suite     1293   113.514504\n",
       "Bungalow        1230   166.418576\n",
       "Loft             982   198.811258\n",
       "Villa            782  1168.252623\n",
       "Hostel           395    61.933570"
      ]
     },
     "execution_count": 28,
     "metadata": {},
     "output_type": "execute_result"
    }
   ],
   "source": [
    "# Your code to answer Question 1\n",
    "df_listing = pd.read_csv(\"./listings.csv\")\n",
    "# merge certain columns of df_listing and certain columns of df_calendar\n",
    "df_type=df_listing[['id','property_type']].merge(df_calendar[['listing_id','price']], how='left',left_on='id',right_on='listing_id')\n",
    "\n",
    "# create data frame that each property type has corresponding average price based on the merged data frame\n",
    "df_tprice=df_type.groupby(by='property_type').apply(lambda x:pd.Series({'ave_price':x['price'].mean()}))\n",
    "\n",
    "# create a sorted data frame that each property type has corresponding number of listings, descendingly sorting by the number of listings=count \n",
    "df_type_num=df_listing.groupby(by='property_type').\\\n",
    "            apply(lambda x:pd.Series({'count':x['id'].nunique()})).sort_values(by='count',ascending=False)\n",
    "\n",
    "# merge df_type_num with df_tprice by left join on property type to see both the number of listings and average price for each property type\n",
    "df_type_price=df_type_num.merge(df_tprice,how='left',on='property_type')\n",
    "\n",
    "# show the top ten popular property type with corresponding average price in LA\n",
    "df_type_price.head(10)"
   ]
  },
  {
   "cell_type": "code",
   "execution_count": 29,
   "metadata": {},
   "outputs": [],
   "source": [
    "# import the package\n",
    "%matplotlib inline\n",
    "import matplotlib.pyplot as plt"
   ]
  },
  {
   "cell_type": "code",
   "execution_count": 30,
   "metadata": {},
   "outputs": [
    {
     "data": {
      "image/png": "[encoded data removed]",
      "text/plain": [
       "<Figure size 720x360 with 2 Axes>"
      ]
     },
     "metadata": {},
     "output_type": "display_data"
    }
   ],
   "source": [
    "# the graph to describe Question 1\n",
    "graph1 = df_type_price.head(10).reset_index()\n",
    "\n",
    "fig,(ax0,ax1) = plt.subplots(nrows=1,ncols=2,figsize = (10,5))\n",
    "fig.suptitle(\"Distribution of the property type\")\n",
    "\n",
    "# graph for ax0\n",
    "graph1.plot(kind=\"bar\", x = \"property_type\", y = \"count\", color = 'b',  ax = ax0)\n",
    "ax0.set(title = \"property type vs. number\", xlabel=\"property type\", ylabel=\"number of listings\")\n",
    "ax0.set_facecolor(\"white\")\n",
    "#graph for ax1\n",
    "graph1.plot(kind=\"bar\", x = \"property_type\", y = \"ave_price\", color = 'purple',  ax = ax1)\n",
    "ax1.set(title = \"property type vs. average price\", xlabel=\"property type\", ylabel=\"average price\")\n",
    "ax1.set_facecolor(\"white\")"
   ]
  },
  {
   "cell_type": "markdown",
   "metadata": {},
   "source": [
    "### For each types of room, which are the mainly property type of it in LA area?\n",
    "**Question 2 Answer:**\n",
    "* For entire home/apt, Apartment is most popular property type\n",
    "* For shared room, House is most popular property type\n",
    "* For private room, House is most popular property type"
   ]
  },
  {
   "cell_type": "code",
   "execution_count": 33,
   "metadata": {},
   "outputs": [
    {
     "name": "stdout",
     "output_type": "stream",
     "text": [
      "               count\n",
      "property_type       \n",
      "Apartment      11809                count\n",
      "property_type       \n",
      "House            895                count\n",
      "property_type       \n",
      "House           6903\n"
     ]
    },
    {
     "data": {
      "image/png": "[encoded data removed]",
      "text/plain": [
       "<Figure size 1440x648 with 3 Axes>"
      ]
     },
     "metadata": {},
     "output_type": "display_data"
    }
   ],
   "source": [
    "# Your code to answer Question 2\n",
    "# show types of room\n",
    "l=list(df_listing['room_type'].unique())\n",
    "\n",
    "# create data frame that each property type has corresponding listing number when room type is 'entire house/apt'\n",
    "entire=df_listing.loc[df_listing['room_type']==l[0],:].groupby(by='property_type').\\\n",
    "        apply(lambda x:pd.Series({'count':x['id'].nunique()})).sort_values(by='count',ascending=False)\n",
    "\n",
    "# create data frame that each property type has corresponding listing number when room type is 'shared room'\n",
    "shared=df_listing.loc[df_listing['room_type']==l[1],:].groupby(by='property_type').\\\n",
    "        apply(lambda x:pd.Series({'count':x['id'].nunique()})).sort_values(by='count',ascending=False)\n",
    "\n",
    "# create data frame that each property type has corresponding listing number when room type is 'private room'\n",
    "private=df_listing.loc[df_listing['room_type']==l[2],:].groupby(by='property_type').\\\n",
    "        apply(lambda x:pd.Series({'count':x['id'].nunique()})).sort_values(by='count',ascending=False)\n",
    "print(entire.head(1),shared.head(1),private.head(1))\n",
    "\n",
    "# the graph to describe Question 2\n",
    "entire_graph = entire.head(10).reset_index()\n",
    "shared_graph = shared.head(10).reset_index()\n",
    "private_graph = private.head(10).reset_index()\n",
    "\n",
    "fig,(ax0,ax1,ax2) = plt.subplots(nrows=1,ncols=3,figsize = (20,9))\n",
    "fig.suptitle(\"Distribution of the room type\")\n",
    "\n",
    "# graph for ax0\n",
    "entire_graph.plot(kind=\"bar\", x = \"property_type\", y = \"count\", color = 'red',  ax = ax0)\n",
    "ax0.set(title = \"property type vs. number for entire room\", xlabel=\"property type\", ylabel=\"number of listings\")\n",
    "ax0.set_facecolor(\"white\")\n",
    "ax0.grid(True)\n",
    "#graph for ax1\n",
    "shared_graph.plot(kind=\"bar\", x = \"property_type\", y = \"count\", color = 'orange',  ax = ax1)\n",
    "ax1.set(title = \"property type vs. number for shared room\", xlabel=\"property type\", ylabel=\"number of listings\")\n",
    "ax1.set_facecolor(\"white\")\n",
    "ax1.grid(True)\n",
    "#graph for ax2\n",
    "private_graph.plot(kind=\"bar\", x = \"property_type\", y = \"count\", color = 'pink',  ax = ax2)\n",
    "ax2.set(title = \"property type vs. number for private room\", xlabel=\"property type\", ylabel=\"number of listings\")\n",
    "ax2.set_facecolor(\"white\")\n",
    "ax2.grid(True)\n"
   ]
  },
  {
   "cell_type": "markdown",
   "metadata": {},
   "source": [
    "### For each types of room, what is the average minimum night of it and what is the average maximum night? Are there any differences between them?\n",
    "**Question 3 Answer:**\n",
    "* data frame 'df_min'"
   ]
  },
  {
   "cell_type": "code",
   "execution_count": 35,
   "metadata": {},
   "outputs": [
    {
     "data": {
      "image/png": "[encoded data removed]",
      "text/plain": [
       "<Figure size 432x288 with 1 Axes>"
      ]
     },
     "metadata": {},
     "output_type": "display_data"
    }
   ],
   "source": [
    "# Your code to answer Question 3\n",
    "\n",
    "# create data frame that each room type has corresponding average minimum nights\n",
    "df_min=df_listing.groupby(by='room_type').apply(lambda x:pd.Series({'ave':x['minimum_nights'].mean(),\n",
    "                                                            'std':x['minimum_nights'].std()}))\n",
    "df_min\n",
    "\n",
    "# the graph to describe Question 3\n",
    "graph3 = df_min.reset_index()\n",
    "\n",
    "fig,ax = plt.subplots()\n",
    "fig.suptitle(\"Summary of the average minimum night for each room type\")\n",
    "\n",
    "# graph\n",
    "graph3.plot(kind=\"bar\", x = \"room_type\", y = \"ave\", color = 'blue',ax=ax)\n",
    "ax.set(title = \"room type vs. average minimum night\", xlabel=\"room type\", ylabel=\"average minimum type\")\n",
    "ax.set_facecolor(\"gray\")"
   ]
  },
  {
   "cell_type": "markdown",
   "metadata": {},
   "source": [
    "### What is the top five cities have largest percentage of listings number in LA area, using cities that have at least 50 listings?\n",
    "**Question 4 Answer:**\n",
    "* Los Angeles, Long Beach, West Hollywood, Santa Monica, Beverly Hills"
   ]
  },
  {
   "cell_type": "code",
   "execution_count": 36,
   "metadata": {},
   "outputs": [
    {
     "name": "stdout",
     "output_type": "stream",
     "text": [
      "                percentage\n",
      "city                      \n",
      "Los Angeles      66.335615\n",
      "Long Beach        3.544249\n",
      "West Hollywood    2.491265\n",
      "Santa Monica      2.254344\n",
      "Beverly Hills     1.809218\n"
     ]
    },
    {
     "data": {
      "text/plain": [
       "([<matplotlib.patches.Wedge at 0x11a1fa518>,\n",
       "  <matplotlib.patches.Wedge at 0x11a1fabe0>,\n",
       "  <matplotlib.patches.Wedge at 0x111049390>,\n",
       "  <matplotlib.patches.Wedge at 0x111049b38>,\n",
       "  <matplotlib.patches.Wedge at 0x111052320>],\n",
       " [Text(-1.00659,0.443598,'Los Angeles'),\n",
       "  Text(0.852207,-0.695517,'Long Beach'),\n",
       "  Text(0.996892,-0.464981,'West Hollywood'),\n",
       "  Text(1.06811,-0.262948,'Santa Monica'),\n",
       "  Text(1.09696,-0.0817227,'Beverly Hills')],\n",
       " [Text(-0.549048,0.241963,'86.79%'),\n",
       "  Text(0.46484,-0.379373,'4.64%'),\n",
       "  Text(0.543759,-0.253626,'3.26%'),\n",
       "  Text(0.582605,-0.143426,'2.95%'),\n",
       "  Text(0.598342,-0.044576,'2.37%')])"
      ]
     },
     "execution_count": 36,
     "metadata": {},
     "output_type": "execute_result"
    },
    {
     "data": {
      "image/png": "[encoded data removed]",
      "text/plain": [
       "<Figure size 432x288 with 1 Axes>"
      ]
     },
     "metadata": {},
     "output_type": "display_data"
    }
   ],
   "source": [
    "# Your code to answer Question 4\n",
    "# create data frame that only includes cities with more than and equal to 50 listings\n",
    "df_c=df_listing.groupby(by='city').filter(lambda x:x['id'].nunique()>=50)\n",
    "\n",
    "# create data frame that each city has corresponding percentage of number of listings in LA area\n",
    "df_city=df_c.groupby(by='city').\\\n",
    "    apply(lambda x:pd.Series({'percentage':(x['id'].nunique()/df_c.shape[0])*100})).\\\n",
    "    sort_values(by='percentage',ascending=False)\n",
    "\n",
    "# top five cities that have largest percentage of listings number in LA area\n",
    "print(df_city.head())\n",
    "\n",
    "# the graph to describe Question 4\n",
    "graph4 = [66.335615,3.544249,2.491265,2.254344,1.809218]\n",
    "\n",
    "fig = plt.figure()\n",
    "fig.suptitle(\"Summary of largest numbers of listing in top five city\")\n",
    "\n",
    "# graph\n",
    "labels = ['Los Angeles','Long Beach','West Hollywood','Santa Monica','Beverly Hills']\n",
    "size = [46,253,321,66,34]\n",
    "colors = ['yellowgreen','red','lightskyblue','yellow','purple']\n",
    "plt.pie(graph4,labels=labels,autopct='%1.2f%%',colors=colors) \n",
    "\n"
   ]
  },
  {
   "cell_type": "markdown",
   "metadata": {},
   "source": [
    "### For the top five cities which have largest percentage of listings number in LA area, which property type is the most popular in that city?\n",
    "**Question 5 Answer:**\n",
    "* Los Angeles: Apartment\n",
    "* Long Beach: Apartment\n",
    "* West Hollywood: Apartment\n",
    "* Santa Monica: Apartment\n",
    "* Beverly Hills: Apartment\n"
   ]
  },
  {
   "cell_type": "code",
   "execution_count": 37,
   "metadata": {},
   "outputs": [
    {
     "name": "stdout",
     "output_type": "stream",
     "text": [
      "               count_type\n",
      "property_type            \n",
      "Apartment           12317\n",
      "House                8362\n",
      "Guesthouse           1281\n",
      "Condominium          1170                count_type\n",
      "property_type            \n",
      "Apartment             548\n",
      "House                 464\n",
      "Condominium           164\n",
      "Guesthouse             62                count_type\n",
      "property_type            \n",
      "Apartment             579\n",
      "House                 195\n",
      "Condominium           132\n",
      "Townhouse              27                count_type\n",
      "property_type            \n",
      "Apartment             516\n",
      "House                 143\n",
      "Condominium            64\n",
      "Townhouse              56                count_type\n",
      "property_type            \n",
      "Apartment             339\n",
      "House                 246\n",
      "Villa                  53\n",
      "Guesthouse             31\n",
      "['Los Angeles', 'Long Beach', 'West Hollywood', 'Santa Monica', 'Beverly Hills']\n",
      "[12317, 548, 579, 516, 339] [8362, 464, 195, 143, 246]\n"
     ]
    },
    {
     "data": {
      "text/plain": [
       "[Text(0,0,'Los Angeles'),\n",
       " Text(0,0,'Long Beach'),\n",
       " Text(0,0,'West Hollywood'),\n",
       " Text(0,0,'Santa Monica'),\n",
       " Text(0,0,'Beverly Hills')]"
      ]
     },
     "execution_count": 37,
     "metadata": {},
     "output_type": "execute_result"
    },
    {
     "data": {
      "image/png": "[encoded data removed]",
      "text/plain": [
       "<Figure size 432x288 with 1 Axes>"
      ]
     },
     "metadata": {},
     "output_type": "display_data"
    }
   ],
   "source": [
    "# Your code to answer Question 5\n",
    "# list the top five cities that have largest percentage of listings number in LA area\n",
    "l_top=list(df_city.reset_index().head()['city'])\n",
    "\n",
    "# create data frame for each city(top five cities from question4)that each property type has corresponding the number of listings\n",
    "d_LA=df_listing.loc[df_listing['city']==l_top[0],:].groupby(by='property_type').\\\n",
    "        apply(lambda x:pd.Series({'count_type':x['id'].nunique()})).sort_values(by='count_type',ascending=False)\n",
    "d_LB=df_listing.loc[df_listing['city']==l_top[1],:].groupby(by='property_type').\\\n",
    "        apply(lambda x:pd.Series({'count_type':x['id'].nunique()})).sort_values(by='count_type',ascending=False)\n",
    "d_WH=df_listing.loc[df_listing['city']==l_top[2],:].groupby(by='property_type').\\\n",
    "        apply(lambda x:pd.Series({'count_type':x['id'].nunique()})).sort_values(by='count_type',ascending=False)\n",
    "d_SM=df_listing.loc[df_listing['city']==l_top[3],:].groupby(by='property_type').\\\n",
    "        apply(lambda x:pd.Series({'count_type':x['id'].nunique()})).sort_values(by='count_type',ascending=False)\n",
    "d_BH=df_listing.loc[df_listing['city']==l_top[4],:].groupby(by='property_type').\\\n",
    "        apply(lambda x:pd.Series({'count_type':x['id'].nunique()})).sort_values(by='count_type',ascending=False)\n",
    "\n",
    "# get the most popular property type for each city\n",
    "print(d_LA.head(4),d_LB.head(4),d_WH.head(4),d_SM.head(4),d_BH.head(4))\n",
    "print(l_top)\n",
    "\n",
    "# the graph to describe Question 5\n",
    "apartment = [12317,548,579,516,339]\n",
    "house = [8362,464,195,143,246]\n",
    "print(apartment,house)\n",
    "fig,ax = plt.subplots()\n",
    "fig.suptitle(\"Summary of most popular property type in the mainly cities\")\n",
    "ind = np.arange(5)\n",
    "width = 0.3\n",
    "ax.bar(ind - width/2, apartment, width,color='SkyBlue', label='apartment')\n",
    "ax.bar(ind + width/2, house, width,color='indianred', label='house')\n",
    "ax.set_ylabel('Number')\n",
    "ax.set_xticks(ind)\n",
    "ax.set_xticklabels(('Los Angeles', 'Long Beach', 'West Hollywood', 'Santa Monica', 'Beverly Hills'))\n",
    "\n"
   ]
  },
  {
   "cell_type": "markdown",
   "metadata": {},
   "source": [
    "## Executive Summary\n",
    "In Los Angeles, the top ten most popular property types from Airbnb are showed in question 1. Approximately there are 16780 apartments and 14769 houses could be found in Airbnb, and for guests, they can have far more choices in apartment and houses than other property type when they plan their trip to Los Angeles. The average price per day for the villa is the highest among all the property types. \n",
    "\n",
    "For three room types found in Los Angeles area, more entire rooms could be found in LA which are regards as the mainly type of room styles. Private rooms are more common in house and apartment than others. While there is less choice for guest who want to have a shared room. If someone plan to visit LA, he or she might mostly use Airbnb to choose to live in Los Angeles city. About 66% of properties posted on Airbnb locate in Los Angeles city. The minimum night rented for three types are slightly different. Averagely, entire house needs 6 days for minimum night, private room and shared room only needs about 4 days. \n",
    "\n",
    "For the graph we developed, there are several interesting aspects from the relationship in location, room type and property type. For the location, more listings locate in LA city. In this group of property, a large group of them are apartment with entire room. For the guest, most of them may choose to live someplace that are convenient for them to visit the city, and the properties locate in the city would be there first-choice. As the number of traveler growing in the future, the requirement for rooms are growing. However, the competitions between the host are more intensive. Hosts may need to improve the environment in order to attract the guests. This sometimes is a trade-off for the host."
   ]
  }
 ],
 "metadata": {
  "kernelspec": {
   "display_name": "Python 3",
   "language": "python",
   "name": "python3"
  },
  "language_info": {
   "codemirror_mode": {
    "name": "ipython",
    "version": 3
   },
   "file_extension": ".py",
   "mimetype": "text/x-python",
   "name": "python",
   "nbconvert_exporter": "python",
   "pygments_lexer": "ipython3",
   "version": "3.7.3"
  }
 },
 "nbformat": 4,
 "nbformat_minor": 2
}
